{
 "cells": [
  {
   "cell_type": "code",
   "execution_count": 1,
   "metadata": {},
   "outputs": [],
   "source": [
    "import os\n",
    "import dotenv\n",
    "import nest_asyncio\n",
    "from pydantic_ai import Agent, RunContext\n",
    "from openai import AsyncAzureOpenAI\n",
    "from pydantic_ai.models.openai import OpenAIModel"
   ]
  },
  {
   "cell_type": "markdown",
   "metadata": {},
   "source": [
    "# Setup"
   ]
  },
  {
   "cell_type": "code",
   "execution_count": 2,
   "metadata": {},
   "outputs": [
    {
     "data": {
      "text/plain": [
       "True"
      ]
     },
     "execution_count": 2,
     "metadata": {},
     "output_type": "execute_result"
    }
   ],
   "source": [
    "dotenv.load_dotenv()"
   ]
  },
  {
   "cell_type": "code",
   "execution_count": 3,
   "metadata": {},
   "outputs": [],
   "source": [
    "nest_asyncio.apply()"
   ]
  },
  {
   "cell_type": "code",
   "execution_count": 4,
   "metadata": {},
   "outputs": [],
   "source": [
    "AZURE_OPENAI_KEY = os.getenv(\"AZURE_OPENAI_KEY\")"
   ]
  },
  {
   "cell_type": "code",
   "execution_count": 5,
   "metadata": {},
   "outputs": [],
   "source": [
    "client = AsyncAzureOpenAI(\n",
    "    azure_endpoint='https://default-afsd.openai.azure.com/',\n",
    "    api_version='2024-06-01',\n",
    "    api_key=AZURE_OPENAI_KEY,\n",
    ")"
   ]
  },
  {
   "cell_type": "code",
   "execution_count": 6,
   "metadata": {},
   "outputs": [],
   "source": [
    "model = OpenAIModel('default-gpt-4o', openai_client=client)"
   ]
  },
  {
   "cell_type": "code",
   "execution_count": 7,
   "metadata": {},
   "outputs": [],
   "source": [
    "weather_agent = Agent(\n",
    "    model,\n",
    "    result_type=str,\n",
    "    system_prompt=(\n",
    "        \"Please check the call check_weather if the user is asking the weather\"\n",
    "    ),\n",
    ")"
   ]
  },
  {
   "cell_type": "code",
   "execution_count": 8,
   "metadata": {},
   "outputs": [],
   "source": [
    "question_rewrite_agent = Agent(\n",
    "    model,\n",
    "    result_type=str,\n",
    "    system_prompt=(\n",
    "        \"Rewrite user question to normalize the city name in capitalize given the question\"\n",
    "    ),\n",
    ")"
   ]
  },
  {
   "cell_type": "code",
   "execution_count": 9,
   "metadata": {},
   "outputs": [],
   "source": [
    "@weather_agent.tool\n",
    "async def check_weather(ctx: RunContext[None], city: str) -> str:\n",
    "    \"\"\"check weather\"\"\"\n",
    "    return \"Sunny\" if city == 'Hong Kong' else 'Rainy'"
   ]
  },
  {
   "cell_type": "code",
   "execution_count": 10,
   "metadata": {},
   "outputs": [],
   "source": [
    "@weather_agent.tool\n",
    "async def rewrite_question(ctx: RunContext[None], question: str) -> str:\n",
    "    \"Rewrite user question to normalize the city name in full name given the question\"\n",
    "    r = await question_rewrite_agent.run(f\"Question: {question}\")\n",
    "    return r.data"
   ]
  },
  {
   "cell_type": "code",
   "execution_count": 11,
   "metadata": {},
   "outputs": [
    {
     "name": "stderr",
     "output_type": "stream",
     "text": [
      "/var/folders/dr/w7p3bgrj7357qqlltyz3qfh80000gn/T/ipykernel_56545/887001836.py:1: LogfireNotConfiguredWarning: No logs or spans will be created until `logfire.configure()` has been called. Set the environment variable LOGFIRE_IGNORE_NO_CONFIG=1 or add ignore_no_config=true in pyproject.toml to suppress this warning.\n",
      "  result = await weather_agent.run(\n"
     ]
    },
    {
     "name": "stdout",
     "output_type": "stream",
     "text": [
      "Hello! How can I assist you today?\n"
     ]
    }
   ],
   "source": [
    "result = await weather_agent.run(\n",
    "    'Hi', deps=None)\n",
    "print(result.data)"
   ]
  },
  {
   "cell_type": "code",
   "execution_count": 12,
   "metadata": {},
   "outputs": [
    {
     "name": "stdout",
     "output_type": "stream",
     "text": [
      "The weather in Hong Kong is currently sunny.\n"
     ]
    }
   ],
   "source": [
    "result = await weather_agent.run(\n",
    "    'What is the weather in Hong Kong ?', deps=None)\n",
    "print(result.data)"
   ]
  },
  {
   "cell_type": "code",
   "execution_count": 13,
   "metadata": {},
   "outputs": [
    {
     "name": "stdout",
     "output_type": "stream",
     "text": [
      "The weather in Hong Kong is sunny.\n"
     ]
    }
   ],
   "source": [
    "result = await weather_agent.run(\n",
    "    'What is the weather in hk ?', deps=None)\n",
    "print(result.data)"
   ]
  },
  {
   "cell_type": "code",
   "execution_count": 14,
   "metadata": {},
   "outputs": [
    {
     "data": {
      "text/plain": [
       "[ModelRequest(parts=[SystemPromptPart(content='Please check the call check_weather if the user is asking the weather', dynamic_ref=None, part_kind='system-prompt'), UserPromptPart(content='What is the weather in hk ?', timestamp=datetime.datetime(2025, 3, 4, 17, 49, 36, 636715, tzinfo=datetime.timezone.utc), part_kind='user-prompt')], kind='request'),\n",
       " ModelResponse(parts=[ToolCallPart(tool_name='rewrite_question', args='{\"question\": \"What is the weather in hk ?\"}', tool_call_id='call_Zos2vR21y1lQcLcqh3TCRF51', part_kind='tool-call')], model_name='gpt-4o-2024-05-13', timestamp=datetime.datetime(2025, 3, 4, 17, 49, 36, tzinfo=datetime.timezone.utc), kind='response'),\n",
       " ModelRequest(parts=[ToolReturnPart(tool_name='rewrite_question', content='Question: What is the weather in Hong Kong?', tool_call_id='call_Zos2vR21y1lQcLcqh3TCRF51', timestamp=datetime.datetime(2025, 3, 4, 17, 49, 38, 29917, tzinfo=datetime.timezone.utc), part_kind='tool-return')], kind='request'),\n",
       " ModelResponse(parts=[ToolCallPart(tool_name='check_weather', args='{\"city\":\"Hong Kong\"}', tool_call_id='call_LSErt6QqVD68MMnPrTBDMt5X', part_kind='tool-call')], model_name='gpt-4o-2024-05-13', timestamp=datetime.datetime(2025, 3, 4, 17, 49, 38, tzinfo=datetime.timezone.utc), kind='response'),\n",
       " ModelRequest(parts=[ToolReturnPart(tool_name='check_weather', content='Sunny', tool_call_id='call_LSErt6QqVD68MMnPrTBDMt5X', timestamp=datetime.datetime(2025, 3, 4, 17, 49, 38, 533799, tzinfo=datetime.timezone.utc), part_kind='tool-return')], kind='request'),\n",
       " ModelResponse(parts=[TextPart(content='The weather in Hong Kong is sunny.', part_kind='text')], model_name='gpt-4o-2024-05-13', timestamp=datetime.datetime(2025, 3, 4, 17, 49, 38, tzinfo=datetime.timezone.utc), kind='response')]"
      ]
     },
     "execution_count": 14,
     "metadata": {},
     "output_type": "execute_result"
    }
   ],
   "source": [
    "result.all_messages()"
   ]
  },
  {
   "cell_type": "code",
   "execution_count": null,
   "metadata": {},
   "outputs": [],
   "source": []
  }
 ],
 "metadata": {
  "kernelspec": {
   "display_name": ".venv",
   "language": "python",
   "name": "python3"
  },
  "language_info": {
   "codemirror_mode": {
    "name": "ipython",
    "version": 3
   },
   "file_extension": ".py",
   "mimetype": "text/x-python",
   "name": "python",
   "nbconvert_exporter": "python",
   "pygments_lexer": "ipython3",
   "version": "3.12.2"
  }
 },
 "nbformat": 4,
 "nbformat_minor": 2
}
